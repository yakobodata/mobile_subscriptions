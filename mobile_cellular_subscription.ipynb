{
 "cells": [
  {
   "cell_type": "code",
   "execution_count": 66,
   "id": "a84cc33f",
   "metadata": {},
   "outputs": [],
   "source": [
    "import pandas as pd\n",
    "import numpy as np\n",
    "import seaborn as sns\n",
    "\n",
    "import matplotlib.pyplot as plt\n",
    "import matplotlib.mlab as mlab\n",
    "import matplotlib\n",
    "plt.style.use('ggplot')\n",
    "from matplotlib.pyplot import figure\n",
    "\n",
    "%matplotlib inline \n",
    "\n",
    "matplotlib.rcParams['figure.figsize'] = (12,8)\n",
    "\n",
    "pd.options.mode.chained_assignment = None\n",
    "\n",
    "#Now we need to read in the data\n",
    "df = pd.read_csv('/home/jay/code/Data_analytics_projects/new_github_repo/mobile_cellular_subscription/data.csv')"
   ]
  },
  {
   "cell_type": "code",
   "execution_count": 67,
   "id": "2629f52e",
   "metadata": {},
   "outputs": [
    {
     "data": {
      "text/html": [
       "<div>\n",
       "<style scoped>\n",
       "    .dataframe tbody tr th:only-of-type {\n",
       "        vertical-align: middle;\n",
       "    }\n",
       "\n",
       "    .dataframe tbody tr th {\n",
       "        vertical-align: top;\n",
       "    }\n",
       "\n",
       "    .dataframe thead th {\n",
       "        text-align: right;\n",
       "    }\n",
       "</style>\n",
       "<table border=\"1\" class=\"dataframe\">\n",
       "  <thead>\n",
       "    <tr style=\"text-align: right;\">\n",
       "      <th></th>\n",
       "      <th>Entity</th>\n",
       "      <th>Code</th>\n",
       "      <th>Year</th>\n",
       "      <th>Mobile cellular subscriptions (per 100 people)</th>\n",
       "    </tr>\n",
       "  </thead>\n",
       "  <tbody>\n",
       "    <tr>\n",
       "      <th>0</th>\n",
       "      <td>Afghanistan</td>\n",
       "      <td>AFG</td>\n",
       "      <td>1960</td>\n",
       "      <td>0.000000</td>\n",
       "    </tr>\n",
       "    <tr>\n",
       "      <th>1</th>\n",
       "      <td>Afghanistan</td>\n",
       "      <td>AFG</td>\n",
       "      <td>1965</td>\n",
       "      <td>0.000000</td>\n",
       "    </tr>\n",
       "    <tr>\n",
       "      <th>2</th>\n",
       "      <td>Afghanistan</td>\n",
       "      <td>AFG</td>\n",
       "      <td>1970</td>\n",
       "      <td>0.000000</td>\n",
       "    </tr>\n",
       "    <tr>\n",
       "      <th>3</th>\n",
       "      <td>Afghanistan</td>\n",
       "      <td>AFG</td>\n",
       "      <td>1975</td>\n",
       "      <td>0.000000</td>\n",
       "    </tr>\n",
       "    <tr>\n",
       "      <th>4</th>\n",
       "      <td>Afghanistan</td>\n",
       "      <td>AFG</td>\n",
       "      <td>1976</td>\n",
       "      <td>0.000000</td>\n",
       "    </tr>\n",
       "    <tr>\n",
       "      <th>...</th>\n",
       "      <td>...</td>\n",
       "      <td>...</td>\n",
       "      <td>...</td>\n",
       "      <td>...</td>\n",
       "    </tr>\n",
       "    <tr>\n",
       "      <th>10582</th>\n",
       "      <td>Zimbabwe</td>\n",
       "      <td>ZWE</td>\n",
       "      <td>2016</td>\n",
       "      <td>91.793457</td>\n",
       "    </tr>\n",
       "    <tr>\n",
       "      <th>10583</th>\n",
       "      <td>Zimbabwe</td>\n",
       "      <td>ZWE</td>\n",
       "      <td>2017</td>\n",
       "      <td>98.985077</td>\n",
       "    </tr>\n",
       "    <tr>\n",
       "      <th>10584</th>\n",
       "      <td>Zimbabwe</td>\n",
       "      <td>ZWE</td>\n",
       "      <td>2018</td>\n",
       "      <td>89.404869</td>\n",
       "    </tr>\n",
       "    <tr>\n",
       "      <th>10585</th>\n",
       "      <td>Zimbabwe</td>\n",
       "      <td>ZWE</td>\n",
       "      <td>2019</td>\n",
       "      <td>90.102287</td>\n",
       "    </tr>\n",
       "    <tr>\n",
       "      <th>10586</th>\n",
       "      <td>Zimbabwe</td>\n",
       "      <td>ZWE</td>\n",
       "      <td>2020</td>\n",
       "      <td>88.755806</td>\n",
       "    </tr>\n",
       "  </tbody>\n",
       "</table>\n",
       "<p>10587 rows × 4 columns</p>\n",
       "</div>"
      ],
      "text/plain": [
       "            Entity Code  Year  Mobile cellular subscriptions (per 100 people)\n",
       "0      Afghanistan  AFG  1960                                        0.000000\n",
       "1      Afghanistan  AFG  1965                                        0.000000\n",
       "2      Afghanistan  AFG  1970                                        0.000000\n",
       "3      Afghanistan  AFG  1975                                        0.000000\n",
       "4      Afghanistan  AFG  1976                                        0.000000\n",
       "...            ...  ...   ...                                             ...\n",
       "10582     Zimbabwe  ZWE  2016                                       91.793457\n",
       "10583     Zimbabwe  ZWE  2017                                       98.985077\n",
       "10584     Zimbabwe  ZWE  2018                                       89.404869\n",
       "10585     Zimbabwe  ZWE  2019                                       90.102287\n",
       "10586     Zimbabwe  ZWE  2020                                       88.755806\n",
       "\n",
       "[10587 rows x 4 columns]"
      ]
     },
     "execution_count": 67,
     "metadata": {},
     "output_type": "execute_result"
    }
   ],
   "source": [
    "# Now let's take a look at the data\n",
    "\n",
    "df"
   ]
  },
  {
   "cell_type": "code",
   "execution_count": 68,
   "id": "df722109",
   "metadata": {},
   "outputs": [
    {
     "name": "stdout",
     "output_type": "stream",
     "text": [
      "Entity                                             object\n",
      "Code                                               object\n",
      "Year                                                int64\n",
      "Mobile cellular subscriptions (per 100 people)    float64\n",
      "dtype: object\n"
     ]
    }
   ],
   "source": [
    "#see the types of data that we have in columns\n",
    "print(df.dtypes)"
   ]
  },
  {
   "cell_type": "code",
   "execution_count": 69,
   "id": "70a0f99b",
   "metadata": {},
   "outputs": [
    {
     "name": "stdout",
     "output_type": "stream",
     "text": [
      "      Entity Code  Year  Mobile cellular subscriptions (per 100 people)\n",
      "9835  Uganda  UGA  1960                                        0.000000\n",
      "9836  Uganda  UGA  1965                                        0.000000\n",
      "9837  Uganda  UGA  1970                                        0.000000\n",
      "9838  Uganda  UGA  1975                                        0.000000\n",
      "9839  Uganda  UGA  1976                                        0.000000\n",
      "9840  Uganda  UGA  1977                                        0.000000\n",
      "9841  Uganda  UGA  1978                                        0.000000\n",
      "9842  Uganda  UGA  1979                                        0.000000\n",
      "9843  Uganda  UGA  1980                                        0.000000\n",
      "9844  Uganda  UGA  1981                                        0.000000\n",
      "9845  Uganda  UGA  1982                                        0.000000\n",
      "9846  Uganda  UGA  1983                                        0.000000\n",
      "9847  Uganda  UGA  1984                                        0.000000\n",
      "9848  Uganda  UGA  1985                                        0.000000\n",
      "9849  Uganda  UGA  1986                                        0.000000\n",
      "9850  Uganda  UGA  1987                                        0.000000\n",
      "9851  Uganda  UGA  1988                                        0.000000\n",
      "9852  Uganda  UGA  1989                                        0.000000\n",
      "9853  Uganda  UGA  1990                                        0.000000\n",
      "9854  Uganda  UGA  1991                                        0.000000\n",
      "9855  Uganda  UGA  1992                                        0.000000\n",
      "9856  Uganda  UGA  1993                                        0.000000\n",
      "9857  Uganda  UGA  1994                                        0.000000\n",
      "9858  Uganda  UGA  1995                                        0.008558\n",
      "9859  Uganda  UGA  1996                                        0.019018\n",
      "9860  Uganda  UGA  1997                                        0.023089\n",
      "9861  Uganda  UGA  1998                                        0.134585\n",
      "9862  Uganda  UGA  1999                                        0.245543\n",
      "9863  Uganda  UGA  2000                                        0.536626\n",
      "9864  Uganda  UGA  2001                                        1.162493\n",
      "9865  Uganda  UGA  2002                                        1.562785\n",
      "9866  Uganda  UGA  2003                                        2.987500\n",
      "9867  Uganda  UGA  2004                                        4.343694\n",
      "9868  Uganda  UGA  2005                                        4.751019\n",
      "9869  Uganda  UGA  2006                                        7.030851\n",
      "9870  Uganda  UGA  2007                                       14.227871\n",
      "9871  Uganda  UGA  2008                                       28.111652\n",
      "9872  Uganda  UGA  2009                                       29.873947\n",
      "9873  Uganda  UGA  2010                                       39.559017\n",
      "9874  Uganda  UGA  2011                                       49.876350\n",
      "9875  Uganda  UGA  2012                                       47.329285\n",
      "9876  Uganda  UGA  2013                                       50.620232\n",
      "9877  Uganda  UGA  2014                                       55.175022\n",
      "9878  Uganda  UGA  2015                                       52.897408\n",
      "9879  Uganda  UGA  2016                                       57.601429\n",
      "9880  Uganda  UGA  2017                                       60.604679\n",
      "9881  Uganda  UGA  2018                                       57.272606\n",
      "9882  Uganda  UGA  2019                                       57.365566\n",
      "9883  Uganda  UGA  2020                                       60.534275\n"
     ]
    }
   ],
   "source": [
    "#let's see the mobile subscription in Uganda an EastAfrican Country\n",
    "\n",
    "uga = df[df['Entity'] == 'Uganda']\n",
    "\n",
    "print(uga)"
   ]
  },
  {
   "cell_type": "code",
   "execution_count": 77,
   "id": "0e09028e",
   "metadata": {
    "scrolled": false
   },
   "outputs": [
    {
     "data": {
      "image/png": "[encoded data removed]",
      "text/plain": [
       "<Figure size 1200x800 with 1 Axes>"
      ]
     },
     "metadata": {},
     "output_type": "display_data"
    },
    {
     "data": {
      "text/plain": [
       "<Figure size 2e-06x1e-06 with 0 Axes>"
      ]
     },
     "metadata": {},
     "output_type": "display_data"
    }
   ],
   "source": [
    "# Scatter plot with Year and Subscriptions in Uganda\n",
    "\n",
    "plt.scatter(x=uga['Year'],y=uga['Mobile cellular subscriptions (per 100 people)'])\n",
    "plt.title('Mobile subscriptions in Uganda')\n",
    "plt.xlabel('Year')\n",
    "plt.ylabel('Subscriptions')\n",
    "\n",
    "# plotting a line plot after changing it's width and height\n",
    "f = plt.figure()\n",
    "f.set_figwidth(0.00000002)\n",
    "f.set_figheight(0.00000001)\n",
    "\n",
    "plt.show()"
   ]
  },
  {
   "cell_type": "code",
   "execution_count": null,
   "id": "a3f7a532",
   "metadata": {},
   "outputs": [],
   "source": []
  },
  {
   "cell_type": "code",
   "execution_count": null,
   "id": "1858fb6a",
   "metadata": {},
   "outputs": [],
   "source": []
  },
  {
   "cell_type": "code",
   "execution_count": null,
   "id": "302cab85",
   "metadata": {},
   "outputs": [],
   "source": []
  }
 ],
 "metadata": {
  "kernelspec": {
   "display_name": "Python 3 (ipykernel)",
   "language": "python",
   "name": "python3"
  },
  "language_info": {
   "codemirror_mode": {
    "name": "ipython",
    "version": 3
   },
   "file_extension": ".py",
   "mimetype": "text/x-python",
   "name": "python",
   "nbconvert_exporter": "python",
   "pygments_lexer": "ipython3",
   "version": "3.8.10"
  }
 },
 "nbformat": 4,
 "nbformat_minor": 5
}
